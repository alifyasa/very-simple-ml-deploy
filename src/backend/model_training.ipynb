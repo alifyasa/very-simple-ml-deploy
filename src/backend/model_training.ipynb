{
 "cells": [
  {
   "cell_type": "code",
   "execution_count": 1,
   "id": "fcde0465",
   "metadata": {},
   "outputs": [],
   "source": [
    "import pickle\n",
    "from sklearn.linear_model import LinearRegression\n",
    "\n",
    "# Create an empty Linear Regression model\n",
    "model = LinearRegression()\n",
    "\n",
    "# Dummy data for training\n",
    "X_train = [[1], [2], [3], [4], [5]]\n",
    "y_train = [2, 4, 6, 8, 10]\n",
    "\n",
    "# Fit the model with the dummy data\n",
    "model.fit(X_train, y_train)\n",
    "\n",
    "# Save the model as a pickle object\n",
    "with open('models/regression_model.pkl', 'wb') as file:\n",
    "    pickle.dump(model, file)"
   ]
  },
  {
   "cell_type": "code",
   "execution_count": null,
   "id": "2211b98d",
   "metadata": {},
   "outputs": [],
   "source": []
  }
 ],
 "metadata": {
  "kernelspec": {
   "display_name": "Python 3 (ipykernel)",
   "language": "python",
   "name": "python3"
  },
  "language_info": {
   "codemirror_mode": {
    "name": "ipython",
    "version": 3
   },
   "file_extension": ".py",
   "mimetype": "text/x-python",
   "name": "python",
   "nbconvert_exporter": "python",
   "pygments_lexer": "ipython3",
   "version": "3.10.9"
  }
 },
 "nbformat": 4,
 "nbformat_minor": 5
}
